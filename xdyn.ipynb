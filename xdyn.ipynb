{
 "cells": [
  {
   "cell_type": "code",
   "execution_count": 4,
   "id": "dfd63f50-32d8-41e1-a109-2c757ea62be7",
   "metadata": {},
   "outputs": [],
   "source": [
    "import numpy as np\n",
    "import unittest\n",
    "from math import cos, sin\n",
    "\n",
    "import numpy as np\n",
    "from xdyn.core import BodyBuilder, BodyPtr, BodyStates, EnvironmentAndFrames\n",
    "from xdyn.core.io import YamlRotation\n",
    "from xdyn.data.mesh import two_triangles\n",
    "from xdyn.force import ConstantForceModel\n",
    "from xdyn.ssc.kinematics import EulerAngles as SscEulerAngles\n",
    "from xdyn.ssc.random import DataGenerator\n",
    "\n",
    "\n",
    "def get_input() -> str:\n",
    "    \"\"\"Create a YAML data model string\"\"\"\n",
    "    return \"\"\"\n",
    "    model: constant force\n",
    "    frame: NED\n",
    "    x: {value: 0.5, unit: m}\n",
    "    y: {value: -0.2, unit: m}\n",
    "    z: {value: -440, unit: m}\n",
    "    X: {value: 10, unit: kN}\n",
    "    Y: {value: 20, unit: kN}\n",
    "    Z: {value: 30, unit: kN}\n",
    "    K: {value: 100, unit: kN*m}\n",
    "    M: {value: 200, unit: kN*m}\n",
    "    N: {value: 300, unit: kN*m}\n",
    "    \"\"\"\n",
    "\n",
    "\n",
    "def get_env() -> EnvironmentAndFrames:\n",
    "    env = EnvironmentAndFrames()\n",
    "    env.rot = YamlRotation(\"angle\", [\"z\", \"y'\", \"x''\"])\n",
    "    env.rho = 1024\n",
    "    return env\n",
    "\n",
    "\n",
    "def get_body(name: str) -> BodyPtr:\n",
    "    rot = YamlRotation(\"angle\", [\"z\", \"y'\", \"x''\"])\n",
    "    builder = BodyBuilder(rot)\n",
    "    return builder.build_for_test(name, two_triangles(), 0, 0.0, rot, 0.0, False)\n",
    "\n",
    "\n",
    "def get_states(\n",
    "    env: EnvironmentAndFrames, body_name: str, phi: float, theta: float, psi: float\n",
    ") -> BodyStates:\n",
    "    \"\"\"Create a body state variable with one record\"\"\"\n",
    "    body = get_body(body_name)\n",
    "    states = body.get_states()\n",
    "    states.convention = YamlRotation(\"angle\", [\"z\", \"y'\", \"x''\"])\n",
    "    quaternion = states.convert_to_quaternion(SscEulerAngles(phi, theta, psi), states.convention)\n",
    "    states.x.record(0, 0.1)\n",
    "    states.y.record(0, 2.04)\n",
    "    states.z.record(0, 6.28)\n",
    "    states.u.record(0, 0.45)\n",
    "    states.v.record(0, 0.01)\n",
    "    states.w.record(0, 5.869)\n",
    "    states.p.record(0, 0.23)\n",
    "    states.q.record(0, 0)\n",
    "    states.r.record(0, 0.38)\n",
    "    states.qr.record(0, quaternion[0])  # To improve\n",
    "    states.qi.record(0, quaternion[1])\n",
    "    states.qj.record(0, quaternion[2])\n",
    "    states.qk.record(0, quaternion[3])\n",
    "    body.update_kinematics(states.get_current_state_values(0), env.k)\n",
    "    return states\n",
    "\n",
    "\n",
    "ctm_x = lambda alpha: np.array(\n",
    "    [[1.0, 0.0, 0.0], [0.0, cos(alpha), sin(alpha)], [0.0, -sin(alpha), cos(alpha)]]\n",
    ")\n",
    "ctm_y = lambda alpha: np.array(\n",
    "    [[cos(alpha), 0.0, -sin(alpha)], [0.0, 1.0, 0.0], [sin(alpha), 0.0, cos(alpha)]]\n",
    ")\n",
    "ctm_z = lambda alpha: np.array(\n",
    "    [[cos(alpha), sin(alpha), 0.0], [-sin(alpha), cos(alpha), 0.0], [0.0, 0.0, 1.0]]\n",
    ")\n"
   ]
  },
  {
   "cell_type": "code",
   "execution_count": 5,
   "id": "613b212c-00f2-46f3-b8ee-4a99aeb418ec",
   "metadata": {},
   "outputs": [],
   "source": [
    "data = ConstantForceModel.parse(get_input())"
   ]
  },
  {
   "cell_type": "code",
   "execution_count": 7,
   "id": "79630e72-e4e9-430a-bf76-53fe60c6a2d8",
   "metadata": {},
   "outputs": [
    {
     "name": "stdout",
     "output_type": "stream",
     "text": [
      "0.5\n"
     ]
    }
   ],
   "source": [
    "print(data.x)"
   ]
  },
  {
   "cell_type": "code",
   "execution_count": null,
   "id": "2befe9d2-1ad0-4111-ac84-745536cab8ae",
   "metadata": {},
   "outputs": [],
   "source": []
  }
 ],
 "metadata": {
  "kernelspec": {
   "display_name": "Python 3 (ipykernel)",
   "language": "python",
   "name": "python3"
  },
  "language_info": {
   "codemirror_mode": {
    "name": "ipython",
    "version": 3
   },
   "file_extension": ".py",
   "mimetype": "text/x-python",
   "name": "python",
   "nbconvert_exporter": "python",
   "pygments_lexer": "ipython3",
   "version": "3.9.7"
  }
 },
 "nbformat": 4,
 "nbformat_minor": 5
}
