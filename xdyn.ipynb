{
 "cells": [
  {
   "cell_type": "code",
   "execution_count": 1,
   "id": "4b915bf5-8110-4ea0-89ea-b2970f3db88c",
   "metadata": {},
   "outputs": [
    {
     "data": {
      "image/png": "[encoded data removed]",
      "text/plain": [
       "<Figure size 432x288 with 1 Axes>"
      ]
     },
     "metadata": {
      "needs_background": "light"
     },
     "output_type": "display_data"
    }
   ],
   "source": [
    "import matplotlib.pyplot as plt\n",
    "import numpy as np\n",
    "from xdyn.env.wave import JonswapSpectrum\n",
    "from xdyn.exceptions import InvalidInputException\n",
    "from xdyn.ssc.random import DataGenerator\n",
    "\n",
    "Hs = 4.0\n",
    "Tp = 10.0\n",
    "gamma = 3.3\n",
    "spectrum = JonswapSpectrum(Hs, Tp, gamma)\n",
    "omegas = np.linspace(0.01, 3, 301)\n",
    "plt.plot(omegas, [spectrum(omega) for omega in omegas], label=\"Jonswap\")\n",
    "plt.legend()\n",
    "plt.show()\n"
   ]
  },
  {
   "cell_type": "code",
   "execution_count": 3,
   "id": "205b2eb7-2646-4383-a0ae-7f5e1bd31bdd",
   "metadata": {},
   "outputs": [
    {
     "name": "stdout",
     "output_type": "stream",
     "text": [
      "10000.0\n"
     ]
    }
   ],
   "source": [
    "from xdyn.force import ConstantForceModel\n",
    "\n",
    "def get_input() -> str:\n",
    "    \"\"\"Create a YAML data model string\"\"\"\n",
    "    return \"\"\"\n",
    "    model: constant force\n",
    "    frame: NED\n",
    "    x: {value: 0.5, unit: m}\n",
    "    y: {value: -0.2, unit: m}\n",
    "    z: {value: -440, unit: m}\n",
    "    X: {value: 10, unit: kN}\n",
    "    Y: {value: 20, unit: kN}\n",
    "    Z: {value: 30, unit: kN}\n",
    "    K: {value: 100, unit: kN*m}\n",
    "    M: {value: 200, unit: kN*m}\n",
    "    N: {value: 300, unit: kN*m}\n",
    "    \"\"\"\n",
    "\n",
    "data = ConstantForceModel.parse(get_input())\n",
    "print(data.X)"
   ]
  },
  {
   "cell_type": "code",
   "execution_count": null,
   "id": "ed6f9196-54e6-4a6f-9135-35a0761e249a",
   "metadata": {},
   "outputs": [],
   "source": []
  }
 ],
 "metadata": {
  "kernelspec": {
   "display_name": "Python 3 (ipykernel)",
   "language": "python",
   "name": "python3"
  },
  "language_info": {
   "codemirror_mode": {
    "name": "ipython",
    "version": 3
   },
   "file_extension": ".py",
   "mimetype": "text/x-python",
   "name": "python",
   "nbconvert_exporter": "python",
   "pygments_lexer": "ipython3",
   "version": "3.9.7"
  }
 },
 "nbformat": 4,
 "nbformat_minor": 5
}
